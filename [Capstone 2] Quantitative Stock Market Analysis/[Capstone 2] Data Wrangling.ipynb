{
 "cells": [
  {
   "cell_type": "code",
   "execution_count": 1,
   "id": "37bcec3f",
   "metadata": {},
   "outputs": [],
   "source": [
    "import pandas as pd\n",
    "import matplotlib.pyplot as plt"
   ]
  },
  {
   "cell_type": "markdown",
   "id": "e12d9eec",
   "metadata": {},
   "source": [
    "1. Importing all the csv stock files into a pandas dataframe"
   ]
  },
  {
   "cell_type": "code",
   "execution_count": 2,
   "id": "929d4b36",
   "metadata": {},
   "outputs": [],
   "source": [
    "apple = pd.read_csv(\"Apple_Historical_Stocks.csv\")\n",
    "amazon = pd.read_csv(\"Amazon_Historical_Stocks.csv\")\n",
    "meta = pd.read_csv(\"Meta_Historical_Stocks.csv\")\n",
    "microsoft = pd.read_csv(\"Microsoft_Historical_Stocks.csv\")\n",
    "netflix = pd.read_csv(\"Netflix_Historical_Stocks.csv\")"
   ]
  },
  {
   "cell_type": "code",
   "execution_count": 3,
   "id": "c6b47cf6",
   "metadata": {},
   "outputs": [
    {
     "data": {
      "text/html": [
       "<div>\n",
       "<style scoped>\n",
       "    .dataframe tbody tr th:only-of-type {\n",
       "        vertical-align: middle;\n",
       "    }\n",
       "\n",
       "    .dataframe tbody tr th {\n",
       "        vertical-align: top;\n",
       "    }\n",
       "\n",
       "    .dataframe thead th {\n",
       "        text-align: right;\n",
       "    }\n",
       "</style>\n",
       "<table border=\"1\" class=\"dataframe\">\n",
       "  <thead>\n",
       "    <tr style=\"text-align: right;\">\n",
       "      <th></th>\n",
       "      <th>Date</th>\n",
       "      <th>Close/Last</th>\n",
       "      <th>Volume</th>\n",
       "      <th>Open</th>\n",
       "      <th>High</th>\n",
       "      <th>Low</th>\n",
       "    </tr>\n",
       "  </thead>\n",
       "  <tbody>\n",
       "    <tr>\n",
       "      <th>0</th>\n",
       "      <td>07/19/2024</td>\n",
       "      <td>$224.31</td>\n",
       "      <td>49151450</td>\n",
       "      <td>$224.82</td>\n",
       "      <td>$226.80</td>\n",
       "      <td>$223.275</td>\n",
       "    </tr>\n",
       "    <tr>\n",
       "      <th>1</th>\n",
       "      <td>07/18/2024</td>\n",
       "      <td>$224.18</td>\n",
       "      <td>66034590</td>\n",
       "      <td>$230.28</td>\n",
       "      <td>$230.44</td>\n",
       "      <td>$222.27</td>\n",
       "    </tr>\n",
       "    <tr>\n",
       "      <th>2</th>\n",
       "      <td>07/17/2024</td>\n",
       "      <td>$228.88</td>\n",
       "      <td>57345880</td>\n",
       "      <td>$229.45</td>\n",
       "      <td>$231.4599</td>\n",
       "      <td>$226.64</td>\n",
       "    </tr>\n",
       "    <tr>\n",
       "      <th>3</th>\n",
       "      <td>07/16/2024</td>\n",
       "      <td>$234.82</td>\n",
       "      <td>43234280</td>\n",
       "      <td>$235.00</td>\n",
       "      <td>$236.27</td>\n",
       "      <td>$232.33</td>\n",
       "    </tr>\n",
       "    <tr>\n",
       "      <th>4</th>\n",
       "      <td>07/15/2024</td>\n",
       "      <td>$234.40</td>\n",
       "      <td>62631250</td>\n",
       "      <td>$236.48</td>\n",
       "      <td>$237.23</td>\n",
       "      <td>$233.09</td>\n",
       "    </tr>\n",
       "  </tbody>\n",
       "</table>\n",
       "</div>"
      ],
      "text/plain": [
       "         Date Close/Last    Volume     Open       High       Low\n",
       "0  07/19/2024    $224.31  49151450  $224.82    $226.80  $223.275\n",
       "1  07/18/2024    $224.18  66034590  $230.28    $230.44   $222.27\n",
       "2  07/17/2024    $228.88  57345880  $229.45  $231.4599   $226.64\n",
       "3  07/16/2024    $234.82  43234280  $235.00    $236.27   $232.33\n",
       "4  07/15/2024    $234.40  62631250  $236.48    $237.23   $233.09"
      ]
     },
     "execution_count": 3,
     "metadata": {},
     "output_type": "execute_result"
    }
   ],
   "source": [
    "apple.head()"
   ]
  },
  {
   "cell_type": "markdown",
   "id": "0aa6681b",
   "metadata": {},
   "source": [
    "2. Adding a stock label to each stock"
   ]
  },
  {
   "cell_type": "code",
   "execution_count": 4,
   "id": "e8d65a3e",
   "metadata": {},
   "outputs": [],
   "source": [
    "apple['Stock'] = 'Apple'\n",
    "amazon['Stock'] = 'Amazon'\n",
    "meta['Stock'] = 'Meta'\n",
    "microsoft['Stock'] = 'Microsoft'\n",
    "netflix['Stock'] = 'Netflix'"
   ]
  },
  {
   "cell_type": "code",
   "execution_count": 5,
   "id": "52309d72",
   "metadata": {},
   "outputs": [
    {
     "data": {
      "text/html": [
       "<div>\n",
       "<style scoped>\n",
       "    .dataframe tbody tr th:only-of-type {\n",
       "        vertical-align: middle;\n",
       "    }\n",
       "\n",
       "    .dataframe tbody tr th {\n",
       "        vertical-align: top;\n",
       "    }\n",
       "\n",
       "    .dataframe thead th {\n",
       "        text-align: right;\n",
       "    }\n",
       "</style>\n",
       "<table border=\"1\" class=\"dataframe\">\n",
       "  <thead>\n",
       "    <tr style=\"text-align: right;\">\n",
       "      <th></th>\n",
       "      <th>Date</th>\n",
       "      <th>Close/Last</th>\n",
       "      <th>Volume</th>\n",
       "      <th>Open</th>\n",
       "      <th>High</th>\n",
       "      <th>Low</th>\n",
       "      <th>Stock</th>\n",
       "    </tr>\n",
       "  </thead>\n",
       "  <tbody>\n",
       "    <tr>\n",
       "      <th>0</th>\n",
       "      <td>07/19/2024</td>\n",
       "      <td>$224.31</td>\n",
       "      <td>49151450</td>\n",
       "      <td>$224.82</td>\n",
       "      <td>$226.80</td>\n",
       "      <td>$223.275</td>\n",
       "      <td>Apple</td>\n",
       "    </tr>\n",
       "    <tr>\n",
       "      <th>1</th>\n",
       "      <td>07/18/2024</td>\n",
       "      <td>$224.18</td>\n",
       "      <td>66034590</td>\n",
       "      <td>$230.28</td>\n",
       "      <td>$230.44</td>\n",
       "      <td>$222.27</td>\n",
       "      <td>Apple</td>\n",
       "    </tr>\n",
       "    <tr>\n",
       "      <th>2</th>\n",
       "      <td>07/17/2024</td>\n",
       "      <td>$228.88</td>\n",
       "      <td>57345880</td>\n",
       "      <td>$229.45</td>\n",
       "      <td>$231.4599</td>\n",
       "      <td>$226.64</td>\n",
       "      <td>Apple</td>\n",
       "    </tr>\n",
       "    <tr>\n",
       "      <th>3</th>\n",
       "      <td>07/16/2024</td>\n",
       "      <td>$234.82</td>\n",
       "      <td>43234280</td>\n",
       "      <td>$235.00</td>\n",
       "      <td>$236.27</td>\n",
       "      <td>$232.33</td>\n",
       "      <td>Apple</td>\n",
       "    </tr>\n",
       "    <tr>\n",
       "      <th>4</th>\n",
       "      <td>07/15/2024</td>\n",
       "      <td>$234.40</td>\n",
       "      <td>62631250</td>\n",
       "      <td>$236.48</td>\n",
       "      <td>$237.23</td>\n",
       "      <td>$233.09</td>\n",
       "      <td>Apple</td>\n",
       "    </tr>\n",
       "  </tbody>\n",
       "</table>\n",
       "</div>"
      ],
      "text/plain": [
       "         Date Close/Last    Volume     Open       High       Low  Stock\n",
       "0  07/19/2024    $224.31  49151450  $224.82    $226.80  $223.275  Apple\n",
       "1  07/18/2024    $224.18  66034590  $230.28    $230.44   $222.27  Apple\n",
       "2  07/17/2024    $228.88  57345880  $229.45  $231.4599   $226.64  Apple\n",
       "3  07/16/2024    $234.82  43234280  $235.00    $236.27   $232.33  Apple\n",
       "4  07/15/2024    $234.40  62631250  $236.48    $237.23   $233.09  Apple"
      ]
     },
     "execution_count": 5,
     "metadata": {},
     "output_type": "execute_result"
    }
   ],
   "source": [
    "apple.head()"
   ]
  },
  {
   "cell_type": "markdown",
   "id": "b31ba6ba",
   "metadata": {},
   "source": [
    "3. Checking each feature's data types to convert if necessary"
   ]
  },
  {
   "cell_type": "code",
   "execution_count": 6,
   "id": "b0bf99ea",
   "metadata": {},
   "outputs": [
    {
     "data": {
      "text/plain": [
       "Date          object\n",
       "Close/Last    object\n",
       "Volume         int64\n",
       "Open          object\n",
       "High          object\n",
       "Low           object\n",
       "Stock         object\n",
       "dtype: object"
      ]
     },
     "execution_count": 6,
     "metadata": {},
     "output_type": "execute_result"
    }
   ],
   "source": [
    "apple.dtypes"
   ]
  },
  {
   "cell_type": "code",
   "execution_count": 7,
   "id": "aecc5b9a",
   "metadata": {},
   "outputs": [],
   "source": [
    "stocks = [apple, amazon, meta, microsoft, netflix]\n",
    "for stock in stocks:\n",
    "    stock['Date'] = pd.to_datetime(stock['Date'])\n",
    "    stock['Open'] = stock['Open'].str.replace('$', '')\n",
    "    stock['Open'] = pd.to_numeric(stock['Open'])\n",
    "    stock['Close/Last'] = stock['Close/Last'].str.replace('$', '')\n",
    "    stock['Close/Last']= pd.to_numeric(stock['Close/Last'])\n",
    "    stock['High'] = stock['High'].str.replace('$', '')\n",
    "    stock['High']= pd.to_numeric(stock['High'])\n",
    "    stock['Low'] = stock['Low'].str.replace('$', '')\n",
    "    stock['Low']= pd.to_numeric(stock['Low'])"
   ]
  },
  {
   "cell_type": "code",
   "execution_count": 8,
   "id": "25300270",
   "metadata": {},
   "outputs": [
    {
     "data": {
      "text/plain": [
       "Date          datetime64[ns]\n",
       "Close/Last           float64\n",
       "Volume                 int64\n",
       "Open                 float64\n",
       "High                 float64\n",
       "Low                  float64\n",
       "Stock                 object\n",
       "dtype: object"
      ]
     },
     "execution_count": 8,
     "metadata": {},
     "output_type": "execute_result"
    }
   ],
   "source": [
    "apple.dtypes"
   ]
  },
  {
   "cell_type": "markdown",
   "id": "d1990d69",
   "metadata": {},
   "source": [
    "4. Visualize the stock data"
   ]
  },
  {
   "cell_type": "code",
   "execution_count": 9,
   "id": "dd0585ba",
   "metadata": {},
   "outputs": [
    {
     "data": {
      "text/plain": [
       "Text(0.5, 1.0, 'Opening Price of Apple for 5 Years')"
      ]
     },
     "execution_count": 9,
     "metadata": {},
     "output_type": "execute_result"
    },
    {
     "data": {
      "image/png": "[encoded data removed]",
      "text/plain": [
       "<Figure size 640x480 with 1 Axes>"
      ]
     },
     "metadata": {},
     "output_type": "display_data"
    }
   ],
   "source": [
    "plt.scatter(apple['Date'], apple['Open'])\n",
    "plt.title('Opening Price of Apple for 5 Years')"
   ]
  },
  {
   "cell_type": "markdown",
   "id": "12c4e39a",
   "metadata": {},
   "source": [
    "5. Combine all the seperate dataframes into one"
   ]
  },
  {
   "cell_type": "code",
   "execution_count": 10,
   "id": "ac34b0e5",
   "metadata": {},
   "outputs": [],
   "source": [
    "df = pd.concat([apple, amazon, meta, microsoft, netflix], keys = ['Apple', 'Amazon', 'Meta', 'Microsoft', 'Netflix'])"
   ]
  },
  {
   "cell_type": "code",
   "execution_count": 11,
   "id": "e712c1f3",
   "metadata": {},
   "outputs": [
    {
     "name": "stdout",
     "output_type": "stream",
     "text": [
      "                   Date  Close/Last    Volume    Open      High      Low  \\\n",
      "Apple   0    2024-07-19      224.31  49151450  224.82  226.8000  223.275   \n",
      "        1    2024-07-18      224.18  66034590  230.28  230.4400  222.270   \n",
      "        2    2024-07-17      228.88  57345880  229.45  231.4599  226.640   \n",
      "        3    2024-07-16      234.82  43234280  235.00  236.2700  232.330   \n",
      "        4    2024-07-15      234.40  62631250  236.48  237.2300  233.090   \n",
      "...                 ...         ...       ...     ...       ...      ...   \n",
      "Netflix 1253 2019-07-26      335.78  10847500  328.79  336.0000  327.500   \n",
      "        1254 2019-07-25      326.46  10798500  318.86  327.6900  316.300   \n",
      "        1255 2019-07-24      317.94  11961820  310.51  319.9900  307.250   \n",
      "        1256 2019-07-23      307.30   9171068  311.44  313.5000  306.000   \n",
      "        1257 2019-07-22      310.62  17725330  312.00  314.5400  305.810   \n",
      "\n",
      "                Stock  \n",
      "Apple   0       Apple  \n",
      "        1       Apple  \n",
      "        2       Apple  \n",
      "        3       Apple  \n",
      "        4       Apple  \n",
      "...               ...  \n",
      "Netflix 1253  Netflix  \n",
      "        1254  Netflix  \n",
      "        1255  Netflix  \n",
      "        1256  Netflix  \n",
      "        1257  Netflix  \n",
      "\n",
      "[6290 rows x 7 columns]\n"
     ]
    }
   ],
   "source": [
    "print(df)"
   ]
  },
  {
   "cell_type": "code",
   "execution_count": 12,
   "id": "2c515e3a",
   "metadata": {},
   "outputs": [
    {
     "data": {
      "text/plain": [
       "<bound method DataFrame.info of                    Date  Close/Last    Volume    Open      High      Low  \\\n",
       "Apple   0    2024-07-19      224.31  49151450  224.82  226.8000  223.275   \n",
       "        1    2024-07-18      224.18  66034590  230.28  230.4400  222.270   \n",
       "        2    2024-07-17      228.88  57345880  229.45  231.4599  226.640   \n",
       "        3    2024-07-16      234.82  43234280  235.00  236.2700  232.330   \n",
       "        4    2024-07-15      234.40  62631250  236.48  237.2300  233.090   \n",
       "...                 ...         ...       ...     ...       ...      ...   \n",
       "Netflix 1253 2019-07-26      335.78  10847500  328.79  336.0000  327.500   \n",
       "        1254 2019-07-25      326.46  10798500  318.86  327.6900  316.300   \n",
       "        1255 2019-07-24      317.94  11961820  310.51  319.9900  307.250   \n",
       "        1256 2019-07-23      307.30   9171068  311.44  313.5000  306.000   \n",
       "        1257 2019-07-22      310.62  17725330  312.00  314.5400  305.810   \n",
       "\n",
       "                Stock  \n",
       "Apple   0       Apple  \n",
       "        1       Apple  \n",
       "        2       Apple  \n",
       "        3       Apple  \n",
       "        4       Apple  \n",
       "...               ...  \n",
       "Netflix 1253  Netflix  \n",
       "        1254  Netflix  \n",
       "        1255  Netflix  \n",
       "        1256  Netflix  \n",
       "        1257  Netflix  \n",
       "\n",
       "[6290 rows x 7 columns]>"
      ]
     },
     "execution_count": 12,
     "metadata": {},
     "output_type": "execute_result"
    }
   ],
   "source": [
    "df.info"
   ]
  },
  {
   "cell_type": "code",
   "execution_count": 13,
   "id": "230a162c",
   "metadata": {},
   "outputs": [
    {
     "data": {
      "text/plain": [
       "Date          datetime64[ns]\n",
       "Close/Last           float64\n",
       "Volume                 int64\n",
       "Open                 float64\n",
       "High                 float64\n",
       "Low                  float64\n",
       "Stock                 object\n",
       "dtype: object"
      ]
     },
     "execution_count": 13,
     "metadata": {},
     "output_type": "execute_result"
    }
   ],
   "source": [
    "df.dtypes"
   ]
  },
  {
   "cell_type": "markdown",
   "id": "346a866a",
   "metadata": {},
   "source": [
    "6. Check for any missing values"
   ]
  },
  {
   "cell_type": "code",
   "execution_count": 14,
   "id": "92b22e32",
   "metadata": {},
   "outputs": [
    {
     "name": "stdout",
     "output_type": "stream",
     "text": [
      "Date          0\n",
      "Close/Last    0\n",
      "Volume        0\n",
      "Open          0\n",
      "High          0\n",
      "Low           0\n",
      "Stock         0\n",
      "dtype: int64\n"
     ]
    }
   ],
   "source": [
    "missing_values = df.isnull().sum()\n",
    "print(missing_values)"
   ]
  },
  {
   "cell_type": "code",
   "execution_count": 16,
   "id": "cdca2941",
   "metadata": {},
   "outputs": [],
   "source": [
    "datapath = '../data'\n",
    "df.to_csv(\"stocks.csv\")"
   ]
  },
  {
   "cell_type": "code",
   "execution_count": null,
   "id": "8d4e327d",
   "metadata": {},
   "outputs": [],
   "source": []
  }
 ],
 "metadata": {
  "kernelspec": {
   "display_name": "Python 3 (ipykernel)",
   "language": "python",
   "name": "python3"
  },
  "language_info": {
   "codemirror_mode": {
    "name": "ipython",
    "version": 3
   },
   "file_extension": ".py",
   "mimetype": "text/x-python",
   "name": "python",
   "nbconvert_exporter": "python",
   "pygments_lexer": "ipython3",
   "version": "3.11.5"
  }
 },
 "nbformat": 4,
 "nbformat_minor": 5
}
